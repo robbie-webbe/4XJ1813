{
 "cells": [
  {
   "cell_type": "code",
   "execution_count": null,
   "id": "757e2d59",
   "metadata": {},
   "outputs": [],
   "source": [
    "import sys\n",
    "import os\n",
    "import numpy as np\n",
    "import matplotlib.pyplot as plt\n",
    "sys.path.append(os.getcwd()[:-8]+'/Analysis_Funcs/General')\n",
    "from fitsloader import XMMtolc\n",
    "from astropy.io import fits"
   ]
  },
  {
   "cell_type": "markdown",
   "id": "3edc3c87",
   "metadata": {},
   "source": [
    "display the observation"
   ]
  },
  {
   "cell_type": "code",
   "execution_count": null,
   "id": "a61f4ebe",
   "metadata": {},
   "outputs": [],
   "source": []
  },
  {
   "cell_type": "markdown",
   "id": "1b10b4e4",
   "metadata": {},
   "source": [
    "Look at the first flare"
   ]
  },
  {
   "cell_type": "code",
   "execution_count": null,
   "id": "c313fec5",
   "metadata": {},
   "outputs": [],
   "source": []
  },
  {
   "cell_type": "markdown",
   "id": "b7ca43a4",
   "metadata": {},
   "source": [
    "Look at the second flare"
   ]
  },
  {
   "cell_type": "code",
   "execution_count": null,
   "id": "aa9cb103",
   "metadata": {},
   "outputs": [],
   "source": []
  },
  {
   "cell_type": "markdown",
   "id": "60f4d769",
   "metadata": {},
   "source": [
    "Energy band comparisons for flare 1"
   ]
  },
  {
   "cell_type": "code",
   "execution_count": null,
   "id": "cb7eda63",
   "metadata": {},
   "outputs": [],
   "source": []
  },
  {
   "cell_type": "markdown",
   "id": "073e9aeb",
   "metadata": {},
   "source": [
    "Energy band comparisons for flare 2"
   ]
  }
 ],
 "metadata": {
  "kernelspec": {
   "display_name": "Python 3 (ipykernel)",
   "language": "python",
   "name": "python3"
  },
  "language_info": {
   "codemirror_mode": {
    "name": "ipython",
    "version": 3
   },
   "file_extension": ".py",
   "mimetype": "text/x-python",
   "name": "python",
   "nbconvert_exporter": "python",
   "pygments_lexer": "ipython3",
   "version": "3.8.13"
  }
 },
 "nbformat": 4,
 "nbformat_minor": 5
}
